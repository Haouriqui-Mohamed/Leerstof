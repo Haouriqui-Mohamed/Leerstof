{
 "cells": [
  {
   "cell_type": "markdown",
   "id": "9d251577",
   "metadata": {},
   "source": [
    "# Preprocessing\n",
    "\n",
    "In het vorige vak heb je reeds gezien hoe je met behulp van python en pandas de dataset kan transformeren naar een bruikbaarder formaat.\n",
    "Daarbij hadden we ook gezien dat dit kon toegevoegd worden in een pipeline zodat alles binnen het SkLearn platform gehouden kon worden.\n",
    "Het voordeel van het opstellen van een pijplijn is dat alle nodige preprocessing stappen mee opgeslagen en gedeployed worden.\n",
    "Dus moet de nodige code voor het voorbereiden van de data niet overgezet worden van de trainingscode naar de productiecode.\n",
    "Dit vermijdt bugs en zorgt voor een kleiner verschil tussen de performantie van het model in het labo/development en productie.\n",
    "\n",
    "Het is dus duidelijk dat het gebruik van een pijplijn voor je data om te zetten naar een voorspelling een belangrijk concept is binnen Machine Learning/Data Science.\n",
    "Hierdoor is het dus evident dat dit concept ook binnen tensorflow mogelijk is.\n",
    "De volgende opties worden hiervoor aangeboden:\n",
    "* Door de preprocessing stappen/lagen onderdeel te maken van het model\n",
    "    * Via het sequential model \n",
    "    * Via de function API\n",
    "* Door gebruik te maken van het Dataset object concept binnen tensorflow om de preprocessing stappen eerst te doen en de kant en klare batches aan het model te presenteren.\n",
    "\n",
    "Er zijn twee manieren om de preprocessing stappen deel te laten uitmaken van het model.\n",
    "Ten eerste is het nodig om je te herinneren dat een model in tensorflow bestaat uit een aantal lagen die achter elkaar uitgevoerd worden.\n",
    "Deze laggen kunnen voorsteld worden als een graaf. \n",
    "\n",
    "Er zijn twee manieren om om te gaan met deze lagen.\n",
    "Ten eerste kan je gebruik maken van een sequentie model.\n",
    "Hierbij moeten al je inputs op dezelfde manier behandeld worden.\n",
    "Dit kan bijvoorbeeld gebeuren als je data reeds gepreprocessed is of als het enkel numerieke waarden bevat.\n",
    "Ook als het volledige uit tekst bestaat (zoals een tweet) kan je dit model gebruiken.\n",
    "Indien je echter complexere zaken wilt doen zoals een set features normalizeren en een andere set features encoderen met one-hot encoding, dan moet je gebruik maken van de functional API om een acyclische graaf op te stellen van de uit te voeren stappen."
   ]
  },
  {
   "cell_type": "markdown",
   "id": "d5181ab6",
   "metadata": {},
   "source": [
    "## With Sequential model\n",
    "\n",
    "Laten we in eerste instantie eerst kijken naar hoe je de verschillende preprocessing stappen kan gebruiken in het sequentieel model.\n",
    "\n",
    "**Numerieke data**\n",
    "\n",
    "Om te werken met numerieke data zijn er de volgende mogelijkheden:\n",
    "* Normalizatie: zet het om naar een standaardverdeling met gemiddelde 0 en standaardafwijking 1\n",
    "* Discretizatie: zet continue waarden om naar discrete/gehele getallen/categorieën\n",
    "\n",
    "Hieronder staat een voorbeeld hoe deze lagen kunnen toegepast worden op een dataset met numeriek gegevens (pixelwaarden) van 50.000 figuren van 32 pixels op 32. Let op dat voor je dit door een normalizatie laag kunt sturen, dat je ervoor moet zorgen dat de tensor vlak is.\n",
    "Dit wil zeggen dat de tensor slechts uit 1 dimensie bestaat."
   ]
  },
  {
   "cell_type": "code",
   "execution_count": 1,
   "id": "3b37df23",
   "metadata": {},
   "outputs": [],
   "source": [
    "import numpy as np\n",
    "import tensorflow as tf"
   ]
  },
  {
   "cell_type": "code",
   "execution_count": 12,
   "id": "7d69730e",
   "metadata": {},
   "outputs": [
    {
     "name": "stdout",
     "output_type": "stream",
     "text": [
      "Voor flatten:  (100, 32, 32, 3)\n",
      "Na flatten (100, 3072)\n",
      "\n",
      "tf.Tensor(\n",
      "[[ 59  62  63 ... 123  92  72]\n",
      " [154 177 187 ... 143 133 144]\n",
      " [255 255 255 ...  80  86  84]\n",
      " [ 28  25  10 ...  72  65  46]\n",
      " [170 180 198 ...  73  77  80]], shape=(5, 3072), dtype=uint8)\n",
      "tf.Tensor(\n",
      "[[-1.0128038  -1.0182223  -0.7784852  ... -0.06899113 -0.55205494\n",
      "  -0.58504575]\n",
      " [ 0.43711156  0.7139609   0.89162177 ...  0.25798216  0.16105956\n",
      "   0.6140233 ]\n",
      " [ 1.9786005   1.8888329   1.8074869  ... -0.7719837  -0.65641314\n",
      "  -0.3852009 ]\n",
      " [-1.4859341  -1.5755335  -1.4923213  ... -0.902773   -1.0216669\n",
      "  -1.0180429 ]\n",
      " [ 0.68130785  0.75914824  1.0397764  ... -0.88642436 -0.8129505\n",
      "  -0.45181584]], shape=(5, 3072), dtype=float32)\n",
      "tf.Tensor(\n",
      "[[0 0 0 ... 0 0 0]\n",
      " [1 1 1 ... 1 1 1]\n",
      " [1 1 1 ... 0 0 0]\n",
      " [0 0 0 ... 0 0 0]\n",
      " [1 1 1 ... 0 0 0]], shape=(5, 3072), dtype=int64)\n",
      "tf.Tensor(\n",
      "[[0 0 0 ... 0 0 0]\n",
      " [1 1 1 ... 1 1 1]\n",
      " [1 1 1 ... 0 0 0]\n",
      " [0 0 0 ... 0 0 0]\n",
      " [1 1 1 ... 0 0 0]], shape=(5, 3072), dtype=int64)\n"
     ]
    }
   ],
   "source": [
    "(X_train, y_train), _ = tf.keras.datasets.cifar10.load_data()\n",
    "X_train = X_train[:100]\n",
    "y_train = y_train[:100]\n",
    "print(\"Voor flatten: \", X_train.shape)\n",
    "\n",
    "flatten = tf.keras.layers.Flatten()\n",
    "flattened = flatten(X_train)\n",
    "print(\"Na flatten\", flattened.shape)\n",
    "\n",
    "# normalizer\n",
    "normalizer = tf.keras.layers.Normalization()\n",
    "normalizer.adapt(flattened)     # mag je niet vergeten\n",
    "X_train_norm = normalizer(flattened)\n",
    "print()\n",
    "print(flattened[:5])\n",
    "print(X_train_norm[:5])\n",
    "\n",
    "# discretization\n",
    "# in sommige gevallen is hier een adapt() nodig (bvb bij gebruik num_bins)\n",
    "# als je zelf de bin_boundaries instelt is adapt() niet nodig.\n",
    "discretizer = tf.keras.layers.Discretization(num_bins=2)\n",
    "discretizer.adapt(X_train_norm) # nodig bij gebruik van num_bins -> grenzen van de bins bepalen\n",
    "X_train_discrete = discretizer(X_train_norm)\n",
    "print(X_train_discrete[:5])\n",
    "\n",
    "discretizer = tf.keras.layers.Discretization(bin_boundaries=[0])\n",
    "#discretizer.adapt(X_train_norm) # niet nodig\n",
    "X_train_discrete = discretizer(X_train_norm)\n",
    "print(X_train_discrete[:5])"
   ]
  },
  {
   "cell_type": "markdown",
   "id": "a3780d20",
   "metadata": {},
   "source": [
    "Deze aangemaakte lagen kunnen dat toegevoegd worden aan een sequentieel model als volgt"
   ]
  },
  {
   "cell_type": "code",
   "execution_count": 14,
   "id": "aac8c668",
   "metadata": {},
   "outputs": [
    {
     "name": "stdout",
     "output_type": "stream",
     "text": [
      "tf.Tensor(\n",
      "[[0 0 0 ... 0 0 0]\n",
      " [1 1 1 ... 1 1 1]\n",
      " [1 1 1 ... 0 0 0]\n",
      " [0 0 0 ... 0 0 0]\n",
      " [1 1 1 ... 0 0 0]], shape=(5, 3072), dtype=int64)\n"
     ]
    },
    {
     "data": {
      "image/png": "[encoded data removed]",
      "text/plain": [
       "<IPython.core.display.Image object>"
      ]
     },
     "execution_count": 14,
     "metadata": {},
     "output_type": "execute_result"
    }
   ],
   "source": [
    "tf.config.list_physical_devices()\n",
    "\n",
    "model = tf.keras.Sequential([\n",
    "  flatten,\n",
    "  normalizer,\n",
    "  discretizer\n",
    "])\n",
    "\n",
    "X_model = model(X_train)\n",
    "print(X_model[:5])\n",
    "\n",
    "tf.keras.utils.plot_model(model)"
   ]
  },
  {
   "cell_type": "markdown",
   "id": "87eaab82",
   "metadata": {},
   "source": [
    "**Categorieke data**\n",
    "\n",
    "De preprocessing stappen die vaak uitgevoerd worden op categorieke data hebben te maken met hun encoding.\n",
    "Zo is het bijvoorbeeld nodig om:\n",
    "* Een numerieke encoding om te zetten naar one-hot, multi-hot of andere voorstellingen. Dit kan met de CategoryEncoding laag.\n",
    "* Hashing uit te voeren op een categorieke feature om een vector te bekomen\n",
    "* Een tekstuele categorieke waarde te encoderen zodat het door een neuraal netwerk gelezen kan worden\n",
    "*  Een integer waarde om te zetten naar een representatie dat gelezen kan worden door een neuraal netwerk"
   ]
  },
  {
   "cell_type": "code",
   "execution_count": 19,
   "id": "8bd33d3a",
   "metadata": {},
   "outputs": [
    {
     "name": "stdout",
     "output_type": "stream",
     "text": [
      "tf.Tensor(\n",
      "[[b'a']\n",
      " [b'b']\n",
      " [b'c']\n",
      " [b'b']\n",
      " [b'c']\n",
      " [b'a']], shape=(6, 1), dtype=string)\n",
      "tf.Tensor(\n",
      "[[3]\n",
      " [2]\n",
      " [1]\n",
      " [2]\n",
      " [1]\n",
      " [3]], shape=(6, 1), dtype=int64)\n",
      "tf.Tensor(\n",
      "[[0. 1. 0. 0.]\n",
      " [0. 0. 1. 0.]\n",
      " [0. 0. 0. 1.]\n",
      " [0. 0. 1. 0.]\n",
      " [0. 0. 0. 1.]\n",
      " [0. 1. 0. 0.]], shape=(6, 4), dtype=float32)\n",
      "tf.Tensor(\n",
      "[[0. 1. 0. 0.]\n",
      " [0. 0. 1. 0.]\n",
      " [0. 0. 0. 1.]\n",
      " [0. 0. 1. 0.]\n",
      " [0. 0. 0. 1.]\n",
      " [0. 1. 0. 0.]\n",
      " [1. 0. 0. 0.]\n",
      " [1. 0. 0. 0.]\n",
      " [1. 0. 0. 0.]], shape=(9, 4), dtype=float32)\n"
     ]
    }
   ],
   "source": [
    "# string to integer\n",
    "data = tf.constant([[\"a\"], [\"b\"], [\"c\"], [\"b\"], [\"c\"], [\"a\"]])\n",
    "print(data)\n",
    "\n",
    "lookup = tf.keras.layers.StringLookup(output_mode=\"int\")\n",
    "lookup.adapt(data)\n",
    "data2 = lookup(data)\n",
    "print(lookup(data))\n",
    "\n",
    "# integer to one-hot\n",
    "lookup2 = tf.keras.layers.IntegerLookup(output_mode=\"one_hot\")\n",
    "lookup2.adapt(data2)\n",
    "data3 = lookup2(data2)\n",
    "print(data3)\n",
    "\n",
    "\n",
    "data = tf.constant([[\"a\"], [\"b\"], [\"c\"], [\"b\"], [\"c\"], [\"a\"], [\"d\"], [\"e\"], [\"f\"]])\n",
    "print(lookup2(lookup(data)))"
   ]
  },
  {
   "cell_type": "markdown",
   "id": "a9975578",
   "metadata": {},
   "source": [
    "**Welke kolom wordt gebruikt voor de onbekenden?**"
   ]
  },
  {
   "cell_type": "markdown",
   "id": "7ff361a6",
   "metadata": {},
   "source": [
    "**Tekstuele data**\n",
    "\n",
    "Hoe we tot nu toe gewerkt hebben met tekstuele data (zoals een tweet) was om er een bag of words van te maken.\n",
    "Op basis van deze bag of words kon dan ook een tf-idf waarde berekend worden om rekening te houden met heel vaak voorkomende woorden.\n",
    "Bij tensorflow kan je iets gelijkaardigs doen door gebruik te maken van de **TextVectorization** laag.\n",
    "Deze laag krijgt een volledige string mee en kan deze standaardizeren of splitsen op basis van een karakter.\n",
    "Standaardizeren van een string houdt in dat extra spaties en leestekens verwijderd worden of dat alle hoofdletters omgezet worden naar kleine letters. Als je een andere zaken wil bereiken kan je ook een functie meegeven die opgeroepen wordt voor elke string.\n",
    "\n",
    "Verder kan de TextVectorization laag ook een bag-of-words berekenen of zelfs een tf-idf waarde berekenen."
   ]
  },
  {
   "cell_type": "code",
   "execution_count": 20,
   "id": "4bf79e65",
   "metadata": {},
   "outputs": [
    {
     "name": "stdout",
     "output_type": "stream",
     "text": [
      "Encoded text: [[ 2 19 14  1  9  2  1]]\n"
     ]
    }
   ],
   "source": [
    "data = tf.constant([\n",
    "        \"The. Brain is wider than the Sky\",\n",
    "        \"For put them side by. side\",\n",
    "        \"The one the other will contain\",\n",
    "        \"With ease, and You beside\",\n",
    "])\n",
    "\n",
    "text_vectorizer = tf.keras.layers.TextVectorization(output_mode=\"int\")\n",
    "text_vectorizer.adapt(data)\n",
    "\n",
    "print(\"Encoded text:\", \n",
    "      text_vectorizer([\"The Brain is deeper than the sea\"]).numpy())"
   ]
  },
  {
   "cell_type": "markdown",
   "id": "daa6f763",
   "metadata": {},
   "source": [
    "**Preprocessing van figuren**\n",
    "\n",
    "Aangezien computervisie een heel belangrijke toepassing is, zijn er een heel breed spectrum van lagen voorzien om te werken met beelden.\n",
    "Bij Data Augmentation worden er ook nog lagen aangehaald die in principe onder preprocessing lagen vallen maar nu nog minder relevant zijn.\n",
    "Een aantal andere belangrijke lagen zijn:\n",
    "* Resizing()\n",
    "* Rescaling()\n",
    "* Flatten()\n",
    "* ...\n",
    "\n",
    "Een voorbeeld voor te werken met dit soort data wordt getoond onder het Computer Visie gedeelte ."
   ]
  },
  {
   "cell_type": "markdown",
   "id": "e485d7b4",
   "metadata": {},
   "source": [
    "## With Functional API\n",
    "\n",
    "Het probleem om te werken met het sequentiele model is dat de inputs allemaal van hetzelfde type moeten zijn. \n",
    "Dit houdt in dat ze allemaal numeriek of categoriek moeten zijn.\n",
    "In veel gevallen is dit geen probleem, bijvoorbeeld bij het verwerken van tweets of figuren. \n",
    "Indien je werkt met gestructureerde data is dit echter vaak te beperkend.\n",
    "Om deze reden kan je ook gebruik maken van de functional API.\n",
    "Zet hierbij het voorbeeld van de numerieke data om zodat het werkt met de functional API ipv het sequentiele model.\n",
    "Bekijk hiervoor ook de code op het einde van de notebook van vorige les."
   ]
  },
  {
   "cell_type": "code",
   "execution_count": 21,
   "id": "9797715c",
   "metadata": {
    "scrolled": false
   },
   "outputs": [
    {
     "name": "stdout",
     "output_type": "stream",
     "text": [
      "(100, 32, 32, 3)\n",
      "tf.Tensor(\n",
      "[[0 0 0 ... 0 0 0]\n",
      " [1 1 1 ... 1 1 1]\n",
      " [1 1 1 ... 0 0 0]\n",
      " [0 0 0 ... 0 0 0]\n",
      " [1 1 1 ... 0 0 0]], shape=(5, 3072), dtype=int64)\n"
     ]
    },
    {
     "data": {
      "image/png": "[encoded data removed]",
      "text/plain": [
       "<IPython.core.display.Image object>"
      ]
     },
     "execution_count": 21,
     "metadata": {},
     "output_type": "execute_result"
    }
   ],
   "source": [
    "# pas het voorbeeld van de numerieke data aan zodat het werkt met \n",
    "# de functional api ipv het sequentieel model\n",
    "# print hierbij ook de graaf uit\n",
    "\n",
    "print(X_train.shape)\n",
    "inputs = tf.keras.Input(shape=X_train.shape[1:])\n",
    "x = tf.keras.layers.Flatten()(inputs)\n",
    "x = normalizer(x)\n",
    "x = tf.keras.layers.Discretization(bin_boundaries=[0])(x)\n",
    "\n",
    "preprocessor = tf.keras.Model(inputs=inputs, outputs=x)\n",
    "preprocessor.compile()\n",
    "x = preprocessor(X_train)\n",
    "\n",
    "print(x[:5])\n",
    "tf.keras.utils.plot_model(preprocessor, rankdir=\"LR\", show_shapes=True)"
   ]
  },
  {
   "cell_type": "markdown",
   "id": "05bd1633",
   "metadata": {},
   "source": [
    "# Computer visie\n",
    "\n",
    "Het tweede deel van deze notebook staat in het teken van computer visie.\n",
    "Dit deel van Machine Learning is tegenwoordig heel populair en behaalt door middel van Deep Learning neurale netwerken heel goede resultaten bij het interpreteren van beelden en video.\n",
    "De toepassingen van Computer visie zijn omvangrijk, bijvoorbeeld:\n",
    "* Medische wereld: interpreteren scans, robots om te helpen bij kinesie therapie\n",
    "* Mobiliteit: Zelfrijdende auto's\n",
    "* Productie: Magazijnen waar robots zelf items halen of kijken hoe ze iets in elkaar moeten steken\n",
    "* Gaming: Geavanceerde bots\n",
    "* Media: Maken en detecteren van deep fakes/misinformatie\n",
    "\n",
    "In deze domeinen wordt computervisie gebruikt zowel als regressie en classificatie techniek.\n",
    "Daarnaast zijn ook transformers veel voorkomend. Transformers zijn neurale netwerken die een beeld omzetten in een ander beeld. \n",
    "Dit wordt bijvoorbeeld gebruikt voor image segmentation waarbij je kan kijken waar in de figuur welke objecten aanwezig zijn om daarop analyses te doen.\n",
    "\n",
    "Hier gaan we werken met een standaard classificatieprobleem binnen het domein van computervisie, namelijk de CIFAR10-dataset.\n",
    "Deze dataset bestaat uit 60000 32x32 kleurbeelden (50000 trainingsdata, 10000 testdata). \n",
    "Er zijn 10 mogelijke klassen in deze dataset met 6000 beelden per klasse.\n",
    "De mogelijke klassen zijn:\n",
    "* airplane \n",
    "* automobile \n",
    "* bird \n",
    "* cat \n",
    "* deer \n",
    "* dog \n",
    "* frog \n",
    "* horse \n",
    "* ship \n",
    "* truck\n",
    "\n",
    "Deze oefening gaan we uitwerken in drie stappen:\n",
    "* Data genereren\n",
    "* Data augmentation\n",
    "* Opstellen neuraal netwerk\n",
    "\n",
    "## Data generation\n",
    "\n",
    "Laten we beginnen met deze dataset te downloaden van kaggle en te unzippen. Let er hierbij op dat de trainings- en testdata in verschillende mappen geplaatst worden.\n",
    "\n",
    "In theorie kan je nu alle beelden inladen en gebruiken als data.\n",
    "Echter is dit snel een grote belasting voor het geheugen van je computer.\n",
    "Hierdoor kan het beter zijn om de data slechts in stukjes in te lezen.\n",
    "Dit gebeurd in de code hieronder."
   ]
  },
  {
   "cell_type": "code",
   "execution_count": 22,
   "id": "007f5746",
   "metadata": {},
   "outputs": [
    {
     "name": "stdout",
     "output_type": "stream",
     "text": [
      "Please provide your Kaggle credentials to download this dataset. Learn more: http://bit.ly/kaggle-creds\n",
      "Your Kaggle username:Your Kaggle Key:Downloading cifar-10.zip to .\\cifar-10\n"
     ]
    },
    {
     "name": "stderr",
     "output_type": "stream",
     "text": [
      "100%|██████████| 715M/715M [00:27<00:00, 27.5MB/s] \n"
     ]
    },
    {
     "name": "stdout",
     "output_type": "stream",
     "text": [
      "\n",
      "Extracting archive .\\cifar-10/cifar-10.zip to .\\cifar-10\n"
     ]
    }
   ],
   "source": [
    "# download\n",
    "import opendatasets as od\n",
    "od.download(\"https://www.kaggle.com/competitions/cifar-10/overview\")"
   ]
  },
  {
   "cell_type": "code",
   "execution_count": 18,
   "id": "076d712c",
   "metadata": {},
   "outputs": [
    {
     "name": "stdout",
     "output_type": "stream",
     "text": [
      "Requirement already satisfied: pyunpack in c:\\users\\jens.baetens3\\appdata\\local\\programs\\python\\python310\\lib\\site-packages (0.3)\n",
      "Requirement already satisfied: easyprocess in c:\\users\\jens.baetens3\\appdata\\local\\programs\\python\\python310\\lib\\site-packages (from pyunpack) (1.1)\n",
      "Requirement already satisfied: entrypoint2 in c:\\users\\jens.baetens3\\appdata\\local\\programs\\python\\python310\\lib\\site-packages (from pyunpack) (1.1)\n",
      "\n",
      "[notice] A new release of pip available: 22.1.2 -> 22.2.2\n",
      "[notice] To update, run: python.exe -m pip install --upgrade pip\n",
      "Requirement already satisfied: patool in c:\\users\\jens.baetens3\\appdata\\local\\programs\\python\\python310\\lib\\site-packages (1.12)\n",
      "\n",
      "[notice] A new release of pip available: 22.1.2 -> 22.2.2\n",
      "[notice] To update, run: python.exe -m pip install --upgrade pip\n",
      "Collecting scikit-image\n",
      "  Downloading scikit_image-0.19.3-cp310-cp310-win_amd64.whl (12.0 MB)\n",
      "     --------------------------------------- 12.0/12.0 MB 27.3 MB/s eta 0:00:00\n",
      "Requirement already satisfied: scipy>=1.4.1 in c:\\users\\jens.baetens3\\appdata\\local\\programs\\python\\python310\\lib\\site-packages (from scikit-image) (1.8.1)\n",
      "Requirement already satisfied: packaging>=20.0 in c:\\users\\jens.baetens3\\appdata\\local\\programs\\python\\python310\\lib\\site-packages (from scikit-image) (21.3)\n",
      "Collecting imageio>=2.4.1\n",
      "  Downloading imageio-2.21.1-py3-none-any.whl (3.4 MB)\n",
      "     ---------------------------------------- 3.4/3.4 MB 35.7 MB/s eta 0:00:00\n",
      "Requirement already satisfied: numpy>=1.17.0 in c:\\users\\jens.baetens3\\appdata\\local\\programs\\python\\python310\\lib\\site-packages (from scikit-image) (1.23.0)\n",
      "Requirement already satisfied: pillow!=7.1.0,!=7.1.1,!=8.3.0,>=6.1.0 in c:\\users\\jens.baetens3\\appdata\\local\\programs\\python\\python310\\lib\\site-packages (from scikit-image) (9.2.0)\n",
      "Collecting PyWavelets>=1.1.1\n",
      "  Downloading PyWavelets-1.3.0-cp310-cp310-win_amd64.whl (4.2 MB)\n",
      "     ---------------------------------------- 4.2/4.2 MB 33.3 MB/s eta 0:00:00\n",
      "Collecting networkx>=2.2\n",
      "  Downloading networkx-2.8.6-py3-none-any.whl (2.0 MB)\n",
      "     ---------------------------------------- 2.0/2.0 MB 32.5 MB/s eta 0:00:00\n",
      "Collecting tifffile>=2019.7.26\n",
      "  Downloading tifffile-2022.8.12-py3-none-any.whl (208 kB)\n",
      "     ------------------------------------- 208.5/208.5 kB 13.2 MB/s eta 0:00:00\n",
      "Requirement already satisfied: pyparsing!=3.0.5,>=2.0.2 in c:\\users\\jens.baetens3\\appdata\\local\\programs\\python\\python310\\lib\\site-packages (from packaging>=20.0->scikit-image) (3.0.9)\n",
      "Installing collected packages: tifffile, PyWavelets, networkx, imageio, scikit-image\n",
      "Successfully installed PyWavelets-1.3.0 imageio-2.21.1 networkx-2.8.6 scikit-image-0.19.3 tifffile-2022.8.12\n",
      "\n",
      "[notice] A new release of pip available: 22.1.2 -> 22.2.2\n",
      "[notice] To update, run: python.exe -m pip install --upgrade pip\n"
     ]
    }
   ],
   "source": [
    "# install for handling 7z\n",
    "!pip install pyunpack\n",
    "!pip install patool\n",
    "!pip install scikit-image"
   ]
  },
  {
   "cell_type": "code",
   "execution_count": 23,
   "id": "76abfa21",
   "metadata": {},
   "outputs": [],
   "source": [
    "from pyunpack import Archive\n",
    "import os\n",
    "\n",
    "Archive('cifar-10/train.7z').extractall(\"\")\n",
    "Archive('cifar-10/test.7z').extractall(\"\")\n",
    "    "
   ]
  },
  {
   "cell_type": "code",
   "execution_count": 24,
   "id": "e1942e4d",
   "metadata": {},
   "outputs": [
    {
     "name": "stdout",
     "output_type": "stream",
     "text": [
      "45000 num train images found: ['train/1.png', 'train/2.png', 'train/3.png', 'train/4.png', 'train/5.png']\n",
      "5000 num val images found: ['train/45001.png', 'train/45002.png', 'train/45003.png', 'train/45004.png', 'train/45005.png']\n",
      "10000 num test images found: ['test/0.png', 'test/1.png', 'test/2.png', 'test/3.png', 'test/4.png']\n",
      "[[[[ 50  64  37]\n",
      "   [ 51  63  41]\n",
      "   [ 42  55  41]\n",
      "   ...\n",
      "   [ 48  45  42]\n",
      "   [ 18  18  14]\n",
      "   [ 14  15  12]]\n",
      "\n",
      "  [[ 86 107  67]\n",
      "   [ 92 110  76]\n",
      "   [ 82  99  67]\n",
      "   ...\n",
      "   [ 46  43  41]\n",
      "   [ 17  17  14]\n",
      "   [ 11  12  10]]\n",
      "\n",
      "  [[ 43  60  42]\n",
      "   [ 43  56  41]\n",
      "   [ 51  65  46]\n",
      "   ...\n",
      "   [ 42  39  37]\n",
      "   [ 10  10   9]\n",
      "   [  6   6   5]]\n",
      "\n",
      "  ...\n",
      "\n",
      "  [[220 165 151]\n",
      "   [209 174 165]\n",
      "   [199 172 164]\n",
      "   ...\n",
      "   [177 171 168]\n",
      "   [176 170 167]\n",
      "   [175 168 166]]\n",
      "\n",
      "  [[188 178 162]\n",
      "   [182 170 162]\n",
      "   [182 161 157]\n",
      "   ...\n",
      "   [176 168 166]\n",
      "   [175 167 165]\n",
      "   [174 166 164]]\n",
      "\n",
      "  [[188 167 162]\n",
      "   [184 163 157]\n",
      "   [186 167 160]\n",
      "   ...\n",
      "   [176 169 166]\n",
      "   [176 168 166]\n",
      "   [173 165 162]]]\n",
      "\n",
      "\n",
      " [[[  7   5   8]\n",
      "   [  7   5   8]\n",
      "   [  5   4   6]\n",
      "   ...\n",
      "   [ 82  84  78]\n",
      "   [ 80  85  81]\n",
      "   [ 69  73  68]]\n",
      "\n",
      "  [[  6   4   8]\n",
      "   [  6   4   9]\n",
      "   [  5   3   8]\n",
      "   ...\n",
      "   [ 85  86  77]\n",
      "   [ 86  88  81]\n",
      "   [ 81  80  72]]\n",
      "\n",
      "  [[  1   1   6]\n",
      "   [  7   7  12]\n",
      "   [  8   8  13]\n",
      "   ...\n",
      "   [ 98  96  83]\n",
      "   [ 96  96  85]\n",
      "   [ 86  84  73]]\n",
      "\n",
      "  ...\n",
      "\n",
      "  [[150 153 139]\n",
      "   [135 136 121]\n",
      "   [129 129 113]\n",
      "   ...\n",
      "   [ 72  72  69]\n",
      "   [ 45  51  63]\n",
      "   [ 26  32  51]]\n",
      "\n",
      "  [[156 156 139]\n",
      "   [153 151 130]\n",
      "   [138 136 110]\n",
      "   ...\n",
      "   [ 57  58  56]\n",
      "   [ 23  32  48]\n",
      "   [ 38  45  64]]\n",
      "\n",
      "  [[183 193 183]\n",
      "   [191 199 185]\n",
      "   [182 189 171]\n",
      "   ...\n",
      "   [ 83  83  76]\n",
      "   [ 67  74  81]\n",
      "   [114 120 119]]]\n",
      "\n",
      "\n",
      " [[[172 187 130]\n",
      "   [171 186 130]\n",
      "   [168 182 126]\n",
      "   ...\n",
      "   [158 170 113]\n",
      "   [156 169 113]\n",
      "   [147 163 107]]\n",
      "\n",
      "  [[169 185 123]\n",
      "   [168 183 122]\n",
      "   [168 184 123]\n",
      "   ...\n",
      "   [158 175 114]\n",
      "   [152 170 110]\n",
      "   [145 165 107]]\n",
      "\n",
      "  [[174 190 126]\n",
      "   [169 185 122]\n",
      "   [170 186 123]\n",
      "   ...\n",
      "   [157 177 115]\n",
      "   [149 170 108]\n",
      "   [146 168 109]]\n",
      "\n",
      "  ...\n",
      "\n",
      "  [[150 163 100]\n",
      "   [157 168 103]\n",
      "   [162 170 104]\n",
      "   ...\n",
      "   [158 168 108]\n",
      "   [147 160  99]\n",
      "   [139 154  90]]\n",
      "\n",
      "  [[143 154  89]\n",
      "   [149 158  90]\n",
      "   [155 161  96]\n",
      "   ...\n",
      "   [148 157  99]\n",
      "   [143 153  92]\n",
      "   [140 153  88]]\n",
      "\n",
      "  [[148 158  93]\n",
      "   [146 155  89]\n",
      "   [149 157  92]\n",
      "   ...\n",
      "   [137 143  86]\n",
      "   [134 139  80]\n",
      "   [136 143  82]]]\n",
      "\n",
      "\n",
      " ...\n",
      "\n",
      "\n",
      " [[[114 119 125]\n",
      "   [117 122 126]\n",
      "   [120 126 129]\n",
      "   ...\n",
      "   [165 166 160]\n",
      "   [125 126 121]\n",
      "   [103 103 110]]\n",
      "\n",
      "  [[111 116 122]\n",
      "   [116 121 127]\n",
      "   [121 126 133]\n",
      "   ...\n",
      "   [162 163 157]\n",
      "   [127 128 123]\n",
      "   [103 103 109]]\n",
      "\n",
      "  [[114 119 125]\n",
      "   [121 125 136]\n",
      "   [128 132 142]\n",
      "   ...\n",
      "   [167 168 162]\n",
      "   [132 133 126]\n",
      "   [106 108 102]]\n",
      "\n",
      "  ...\n",
      "\n",
      "  [[165 166 161]\n",
      "   [170 171 167]\n",
      "   [175 176 171]\n",
      "   ...\n",
      "   [185 179 168]\n",
      "   [207 199 194]\n",
      "   [201 193 185]]\n",
      "\n",
      "  [[175 176 171]\n",
      "   [175 176 171]\n",
      "   [180 181 176]\n",
      "   ...\n",
      "   [187 182 162]\n",
      "   [200 194 181]\n",
      "   [193 186 178]]\n",
      "\n",
      "  [[173 174 169]\n",
      "   [171 172 167]\n",
      "   [177 178 173]\n",
      "   ...\n",
      "   [205 200 182]\n",
      "   [210 204 192]\n",
      "   [202 195 187]]]\n",
      "\n",
      "\n",
      " [[[ 76 118 167]\n",
      "   [ 73 118 164]\n",
      "   [ 69 116 162]\n",
      "   ...\n",
      "   [ 75 135 180]\n",
      "   [ 72 134 178]\n",
      "   [ 70 135 179]]\n",
      "\n",
      "  [[ 76 122 170]\n",
      "   [ 71 119 166]\n",
      "   [ 66 117 163]\n",
      "   ...\n",
      "   [ 79 136 178]\n",
      "   [ 76 135 177]\n",
      "   [ 75 137 179]]\n",
      "\n",
      "  [[ 71 120 170]\n",
      "   [ 65 117 165]\n",
      "   [ 62 116 164]\n",
      "   ...\n",
      "   [ 80 133 173]\n",
      "   [ 77 132 172]\n",
      "   [ 76 135 174]]\n",
      "\n",
      "  ...\n",
      "\n",
      "  [[ 11  36  66]\n",
      "   [  9  32  61]\n",
      "   [  6  32  61]\n",
      "   ...\n",
      "   [ 31  61  79]\n",
      "   [ 32  62  80]\n",
      "   [ 29  59  77]]\n",
      "\n",
      "  [[  0  19  46]\n",
      "   [  0  13  40]\n",
      "   [  0   7  36]\n",
      "   ...\n",
      "   [ 12  38  55]\n",
      "   [ 12  37  55]\n",
      "   [ 13  38  56]]\n",
      "\n",
      "  [[ 87 100 115]\n",
      "   [ 83  92 108]\n",
      "   [ 81  86 103]\n",
      "   ...\n",
      "   [ 99 116 127]\n",
      "   [ 99 115 127]\n",
      "   [102 119 130]]]\n",
      "\n",
      "\n",
      " [[[ 65 114  54]\n",
      "   [ 70 121  62]\n",
      "   [ 76 129  71]\n",
      "   ...\n",
      "   [ 33  47  42]\n",
      "   [ 59  62  53]\n",
      "   [ 62  66  56]]\n",
      "\n",
      "  [[ 71 120  57]\n",
      "   [ 78 129  65]\n",
      "   [ 87 140  75]\n",
      "   ...\n",
      "   [ 23  30  24]\n",
      "   [ 65  62  51]\n",
      "   [ 74  72  57]]\n",
      "\n",
      "  [[ 69 118  53]\n",
      "   [ 77 129  60]\n",
      "   [ 82 137  63]\n",
      "   ...\n",
      "   [ 19  20  13]\n",
      "   [ 67  57  49]\n",
      "   [ 83  73  66]]\n",
      "\n",
      "  ...\n",
      "\n",
      "  [[ 14  14  14]\n",
      "   [ 14  14  14]\n",
      "   [ 14  14  14]\n",
      "   ...\n",
      "   [ 54  76  45]\n",
      "   [ 54  80  42]\n",
      "   [ 52  81  46]]\n",
      "\n",
      "  [[ 14  14  14]\n",
      "   [ 14  14  14]\n",
      "   [ 14  14  14]\n",
      "   ...\n",
      "   [ 53  76  46]\n",
      "   [ 45  69  37]\n",
      "   [ 38  63  34]]\n",
      "\n",
      "  [[ 14  14  14]\n",
      "   [ 14  14  14]\n",
      "   [ 14  14  14]\n",
      "   ...\n",
      "   [ 49  72  45]\n",
      "   [ 31  51  30]\n",
      "   [ 21  39  21]]]]\n",
      "[1 3 4 0 3 7 3 3 5 2 2 7 1 1 1 2 2 0 9 5 7 9 2 2 5 2 4 3 1 1 8 2]\n"
     ]
    }
   ],
   "source": [
    "from skimage.io import imread\n",
    "from keras.utils import Sequence\n",
    "import numpy as np\n",
    "import pandas as pd\n",
    "\n",
    "\n",
    "df = pd.read_csv(\"cifar-10/trainLabels.csv\")\n",
    "labels_train = df.label.to_list()\n",
    "\n",
    "filenames_train = [\"train/\" + str(x) + \".png\" for x in df.id]\n",
    "filenames_test = [\"test/\" + str(x) + \".png\" for x in range(10000)]\n",
    "\n",
    "validation_percentage = 0.9\n",
    "cutoff = int(len(filenames_train) * validation_percentage)\n",
    "filenames_val = filenames_train[cutoff:]\n",
    "filenames_train = filenames_train[:cutoff]\n",
    "labels_val = labels_train[cutoff:]\n",
    "labels_train = labels_train[:cutoff]\n",
    "\n",
    "print(len(filenames_train), \"num train images found:\", filenames_train[:5])\n",
    "print(len(filenames_val), \"num val images found:\", filenames_val[:5])\n",
    "print(len(filenames_test), \"num test images found:\", filenames_test[:5])\n",
    "\n",
    "voc = {\"airplane\":0, \"automobile\": 1, \"bird\": 2, \"cat\": 3, \"deer\": 4, \"dog\": 5, \"frog\": 6, \"horse\": 7, \"ship\": 8, \"truck\": 9}\n",
    "\n",
    "class CIFAR10Sequence(Sequence):\n",
    "    def __init__(self, filenames, labels, batch_size):\n",
    "        self.filenames, self.labels = filenames, labels\n",
    "        self.batch_size = batch_size\n",
    "\n",
    "    def __len__(self):\n",
    "        return int(np.ceil(len(self.filenames) / float(self.batch_size)))\n",
    "\n",
    "    def __getitem__(self, idx):\n",
    "        batch_x = self.filenames[idx * self.batch_size:(idx + 1) * self.batch_size]\n",
    "        batch_y = self.labels[idx * self.batch_size:(idx + 1) * self.batch_size]\n",
    "        return np.array([imread(filename) for filename in batch_x]), np.array([voc[lbl] for lbl in batch_y])\n",
    "\n",
    "batch_size = 32\n",
    "sequence = CIFAR10Sequence(filenames_train, labels_train, batch_size)\n",
    "sequence_val = CIFAR10Sequence(filenames_val, labels_val, batch_size)\n",
    "\n",
    "batch_x, batch_y = sequence.__getitem__(1)\n",
    "print(batch_x)\n",
    "print(batch_y)"
   ]
  },
  {
   "cell_type": "markdown",
   "id": "0c36b8ca",
   "metadata": {},
   "source": [
    "## Data augmentation\n",
    "\n",
    "Het verzamelen van voldoende data voor het trainen van Deep Learning computervisie toepassingen kan heel kostelijk worden omdat er vaak heel veel figuren (tienduizenden tot miljoenen) moeten verzameld en gelabeld worden.\n",
    "Het is dus duidelijk dat dit niet ideaal is.\n",
    "\n",
    "Een mogelijkheid om de benodigde hoeveelheid voorbeelden/data/figuren te beperken is door kleine wijzigingen aan te brengen aan je bestaande data.\n",
    "Hierdoor zorg je voor meer variatie wat er voor zorgt dat je model beter kan generaliseren en de klans op overfitting verkleint.\n",
    "Hierdoor krijg je typisch betere resultaten.\n",
    "Een voorbeeld hoe je dit kan doen, zie je in onderstaande code.\n",
    "Let op dat het de bedoeling is dat deze code uiteindelijk deel uitmaakt van de totale pipeline maar hier houden we het nog apart om het resultaat van de augmentatie stappen te kunnen bepalen."
   ]
  },
  {
   "cell_type": "code",
   "execution_count": 25,
   "id": "890689e5",
   "metadata": {},
   "outputs": [],
   "source": [
    "import tensorflow as tf\n",
    "from tensorflow.keras.layers import RandomFlip, RandomRotation, RandomBrightness, RandomZoom, Resizing, Rescaling\n",
    "from tensorflow.keras import Sequential\n",
    "\n",
    "import matplotlib.pyplot as plt"
   ]
  },
  {
   "cell_type": "code",
   "execution_count": 26,
   "id": "19c323eb",
   "metadata": {},
   "outputs": [],
   "source": [
    "def draw_figures(data_augmentation, image):\n",
    "    \n",
    "    tmp = tf.cast(tf.expand_dims(image, 0), tf.float32)\n",
    "\n",
    "    plt.figure(figsize=(10, 10))\n",
    "    for i in range(9):\n",
    "        ax = plt.subplot(3, 3, i + 1)\n",
    "        \n",
    "        if i > 0:\n",
    "            augmented_image = data_augmentation(tmp)\n",
    "            plt.imshow(augmented_image[0])\n",
    "        else:\n",
    "            plt.imshow(image)\n",
    "        plt.axis(\"off\")"
   ]
  },
  {
   "cell_type": "code",
   "execution_count": 27,
   "id": "c0eb891c",
   "metadata": {},
   "outputs": [
    {
     "data": {
      "image/png": "[encoded data removed]",
      "text/plain": [
       "<Figure size 720x720 with 9 Axes>"
      ]
     },
     "metadata": {
      "needs_background": "light"
     },
     "output_type": "display_data"
    }
   ],
   "source": [
    "data_augmentation = Sequential([\n",
    "    Rescaling(1./255),\n",
    "    RandomFlip()\n",
    "])\n",
    "\n",
    "draw_figures(data_augmentation, batch_x[5])"
   ]
  },
  {
   "cell_type": "code",
   "execution_count": 28,
   "id": "6113d7d8",
   "metadata": {},
   "outputs": [
    {
     "data": {
      "image/png": "[encoded data removed]",
      "text/plain": [
       "<Figure size 720x720 with 9 Axes>"
      ]
     },
     "metadata": {
      "needs_background": "light"
     },
     "output_type": "display_data"
    }
   ],
   "source": [
    "data_augmentation = Sequential([\n",
    "    Rescaling(1./255),\n",
    "RandomRotation(factor=3.14/2.0)\n",
    "])\n",
    "\n",
    "draw_figures(data_augmentation, batch_x[5])"
   ]
  },
  {
   "cell_type": "code",
   "execution_count": 31,
   "id": "0d02e03c",
   "metadata": {},
   "outputs": [
    {
     "name": "stdout",
     "output_type": "stream",
     "text": [
      "WARNING:tensorflow:Using a while_loop for converting RngReadAndSkip\n",
      "WARNING:tensorflow:Using a while_loop for converting Bitcast\n",
      "WARNING:tensorflow:Using a while_loop for converting Bitcast\n",
      "WARNING:tensorflow:Using a while_loop for converting StatelessRandomUniformV2\n",
      "WARNING:tensorflow:Using a while_loop for converting RngReadAndSkip\n",
      "WARNING:tensorflow:Using a while_loop for converting Bitcast\n",
      "WARNING:tensorflow:Using a while_loop for converting Bitcast\n",
      "WARNING:tensorflow:Using a while_loop for converting StatelessRandomUniformV2\n"
     ]
    },
    {
     "name": "stderr",
     "output_type": "stream",
     "text": [
      "Clipping input data to the valid range for imshow with RGB data ([0..1] for floats or [0..255] for integers).\n"
     ]
    },
    {
     "name": "stdout",
     "output_type": "stream",
     "text": [
      "WARNING:tensorflow:Using a while_loop for converting RngReadAndSkip\n",
      "WARNING:tensorflow:Using a while_loop for converting Bitcast\n",
      "WARNING:tensorflow:Using a while_loop for converting Bitcast\n",
      "WARNING:tensorflow:Using a while_loop for converting StatelessRandomUniformV2\n"
     ]
    },
    {
     "name": "stderr",
     "output_type": "stream",
     "text": [
      "Clipping input data to the valid range for imshow with RGB data ([0..1] for floats or [0..255] for integers).\n"
     ]
    },
    {
     "name": "stdout",
     "output_type": "stream",
     "text": [
      "WARNING:tensorflow:Using a while_loop for converting RngReadAndSkip\n",
      "WARNING:tensorflow:Using a while_loop for converting Bitcast\n",
      "WARNING:tensorflow:Using a while_loop for converting Bitcast\n",
      "WARNING:tensorflow:Using a while_loop for converting StatelessRandomUniformV2\n",
      "WARNING:tensorflow:Using a while_loop for converting RngReadAndSkip\n",
      "WARNING:tensorflow:Using a while_loop for converting Bitcast\n",
      "WARNING:tensorflow:Using a while_loop for converting Bitcast\n",
      "WARNING:tensorflow:Using a while_loop for converting StatelessRandomUniformV2\n",
      "WARNING:tensorflow:Using a while_loop for converting RngReadAndSkip\n",
      "WARNING:tensorflow:Using a while_loop for converting Bitcast\n",
      "WARNING:tensorflow:Using a while_loop for converting Bitcast\n",
      "WARNING:tensorflow:Using a while_loop for converting StatelessRandomUniformV2\n",
      "WARNING:tensorflow:Using a while_loop for converting RngReadAndSkip\n",
      "WARNING:tensorflow:Using a while_loop for converting Bitcast\n",
      "WARNING:tensorflow:Using a while_loop for converting Bitcast\n",
      "WARNING:tensorflow:Using a while_loop for converting StatelessRandomUniformV2\n"
     ]
    },
    {
     "name": "stderr",
     "output_type": "stream",
     "text": [
      "Clipping input data to the valid range for imshow with RGB data ([0..1] for floats or [0..255] for integers).\n"
     ]
    },
    {
     "name": "stdout",
     "output_type": "stream",
     "text": [
      "WARNING:tensorflow:Using a while_loop for converting RngReadAndSkip\n",
      "WARNING:tensorflow:Using a while_loop for converting Bitcast\n",
      "WARNING:tensorflow:Using a while_loop for converting Bitcast\n",
      "WARNING:tensorflow:Using a while_loop for converting StatelessRandomUniformV2\n",
      "WARNING:tensorflow:Using a while_loop for converting RngReadAndSkip\n",
      "WARNING:tensorflow:Using a while_loop for converting Bitcast\n",
      "WARNING:tensorflow:Using a while_loop for converting Bitcast\n",
      "WARNING:tensorflow:Using a while_loop for converting StatelessRandomUniformV2\n"
     ]
    },
    {
     "name": "stderr",
     "output_type": "stream",
     "text": [
      "Clipping input data to the valid range for imshow with RGB data ([0..1] for floats or [0..255] for integers).\n"
     ]
    },
    {
     "data": {
      "image/png": "[encoded data removed]",
      "text/plain": [
       "<Figure size 720x720 with 9 Axes>"
      ]
     },
     "metadata": {
      "needs_background": "light"
     },
     "output_type": "display_data"
    }
   ],
   "source": [
    "data_augmentation = Sequential([\n",
    "    Rescaling(1./255),\n",
    "    RandomBrightness(0.001)\n",
    "])\n",
    "\n",
    "draw_figures(data_augmentation, batch_x[5])"
   ]
  },
  {
   "cell_type": "code",
   "execution_count": 33,
   "id": "823fffb7",
   "metadata": {},
   "outputs": [
    {
     "name": "stdout",
     "output_type": "stream",
     "text": [
      "WARNING:tensorflow:Using a while_loop for converting RngReadAndSkip\n",
      "WARNING:tensorflow:Using a while_loop for converting Bitcast\n",
      "WARNING:tensorflow:Using a while_loop for converting Bitcast\n",
      "WARNING:tensorflow:Using a while_loop for converting StatelessRandomUniformV2\n",
      "WARNING:tensorflow:Using a while_loop for converting RngReadAndSkip\n",
      "WARNING:tensorflow:Using a while_loop for converting Bitcast\n",
      "WARNING:tensorflow:Using a while_loop for converting Bitcast\n",
      "WARNING:tensorflow:Using a while_loop for converting StatelessRandomUniformV2\n",
      "WARNING:tensorflow:Using a while_loop for converting RngReadAndSkip\n",
      "WARNING:tensorflow:Using a while_loop for converting Bitcast\n",
      "WARNING:tensorflow:Using a while_loop for converting Bitcast\n",
      "WARNING:tensorflow:Using a while_loop for converting StatelessRandomUniformV2\n"
     ]
    },
    {
     "name": "stderr",
     "output_type": "stream",
     "text": [
      "Clipping input data to the valid range for imshow with RGB data ([0..1] for floats or [0..255] for integers).\n"
     ]
    },
    {
     "name": "stdout",
     "output_type": "stream",
     "text": [
      "WARNING:tensorflow:Using a while_loop for converting RngReadAndSkip\n",
      "WARNING:tensorflow:Using a while_loop for converting Bitcast\n",
      "WARNING:tensorflow:Using a while_loop for converting Bitcast\n",
      "WARNING:tensorflow:Using a while_loop for converting StatelessRandomUniformV2\n",
      "WARNING:tensorflow:Using a while_loop for converting RngReadAndSkip\n",
      "WARNING:tensorflow:Using a while_loop for converting Bitcast\n",
      "WARNING:tensorflow:Using a while_loop for converting Bitcast\n",
      "WARNING:tensorflow:Using a while_loop for converting StatelessRandomUniformV2\n",
      "WARNING:tensorflow:Using a while_loop for converting RngReadAndSkip\n",
      "WARNING:tensorflow:Using a while_loop for converting Bitcast\n",
      "WARNING:tensorflow:Using a while_loop for converting Bitcast\n",
      "WARNING:tensorflow:Using a while_loop for converting StatelessRandomUniformV2\n",
      "WARNING:tensorflow:Using a while_loop for converting RngReadAndSkip\n",
      "WARNING:tensorflow:Using a while_loop for converting Bitcast\n",
      "WARNING:tensorflow:Using a while_loop for converting Bitcast\n",
      "WARNING:tensorflow:Using a while_loop for converting StatelessRandomUniformV2\n",
      "WARNING:tensorflow:Using a while_loop for converting RngReadAndSkip\n",
      "WARNING:tensorflow:Using a while_loop for converting Bitcast\n",
      "WARNING:tensorflow:Using a while_loop for converting Bitcast\n",
      "WARNING:tensorflow:Using a while_loop for converting StatelessRandomUniformV2\n"
     ]
    },
    {
     "name": "stderr",
     "output_type": "stream",
     "text": [
      "Clipping input data to the valid range for imshow with RGB data ([0..1] for floats or [0..255] for integers).\n"
     ]
    },
    {
     "name": "stdout",
     "output_type": "stream",
     "text": [
      "WARNING:tensorflow:Using a while_loop for converting RngReadAndSkip\n",
      "WARNING:tensorflow:Using a while_loop for converting Bitcast\n",
      "WARNING:tensorflow:Using a while_loop for converting Bitcast\n",
      "WARNING:tensorflow:Using a while_loop for converting StatelessRandomUniformV2\n"
     ]
    },
    {
     "name": "stderr",
     "output_type": "stream",
     "text": [
      "Clipping input data to the valid range for imshow with RGB data ([0..1] for floats or [0..255] for integers).\n"
     ]
    },
    {
     "data": {
      "image/png": "[encoded data removed]",
      "text/plain": [
       "<Figure size 720x720 with 9 Axes>"
      ]
     },
     "metadata": {
      "needs_background": "light"
     },
     "output_type": "display_data"
    }
   ],
   "source": [
    "data_augmentation = Sequential([\n",
    "    Rescaling(1./255),\n",
    "    RandomRotation(0.2),\n",
    "    RandomZoom(0.5),\n",
    "    RandomBrightness(0.001)\n",
    "])\n",
    "\n",
    "draw_figures(data_augmentation, batch_x[15])"
   ]
  },
  {
   "cell_type": "markdown",
   "id": "a1a1858c",
   "metadata": {},
   "source": [
    "## Convolutionele neurale netwerken\n",
    "\n",
    "Na bovenstaande experimenten is het duidelijk dat er veel meer variatie in de dataset kan gebracht worden.\n",
    "Bij classificatie problemen kan dit zelden problemen geven.\n",
    "Let echter op als je kleinere objecten probeert te detecteren.\n",
    "Indien je dan bijvoorbeeld zoomt of roteert bestaat de kans dat het object niet meer in beeld valt.\n",
    "Dit zorgt er dan voor dat je foutieve data meegeeft aan het algoritme.\n",
    "Door de hogere varieteit is dit probleem echter niet zo erg want de kans dat dit vaak voorvalt is klein tenzij je extreme waarden kiest voor de augmentation algoritmes.\n",
    "\n",
    "## Convolutionele neurale netwerken\n",
    "\n",
    "Op basis van bovenstaande stappen kunnen we nu een neuraal netwerk opbouwen om deze figuren te classificeren.\n",
    "Klassiek zou je hier meerdere Dense layers voor gebruiken.\n",
    "Computer visie is echter een complex probleem waar het onvoldoende is om individuele pixelwaarden te weten voor een goede classificatie uit te voeren.\n",
    "Indien je dit toch met een klassiek fully-connected neuraal netwerk te doen zou je heel veel neuronen en lagen moeten hebben om deze verbanden goed te capteren.\n",
    "\n",
    "De state-of-the-art neurale netwerken binnen computer visie plaatsen eerst een aantal lagen voor het neurale netwerken waarbij deze features geextraheerd worden.\n",
    "\n",
    "Deze neurale netwerken worden Convolutionele Neurale Netwerken genoemd (CNN).\n",
    "De naam hiervan komt voort uit het feit dat ze gebruik maken van Convolutionele lagen.\n",
    "Naast deze convolutionele lagen wordt er ook vaak gebruik gemaakt van Pooling lagen om de dimensies te reduceren en zo de performantie te verbeteren.\n",
    "\n",
    "Een goede uitleg met grafische steuntjes kan je vinden op [deze pagina](https://towardsdatascience.com/a-comprehensive-guide-to-convolutional-neural-networks-the-eli5-way-3bd2b1164a53).\n",
    "\n",
    "### Convolutionele lagen\n",
    "\n",
    "De basis van een convolutionele laag is het concept van een convolutie.\n",
    "Een convolutie is een mathematische operatie waarbij data uit verschillende bronnen wordt verbonden/samengevoegd.\n",
    "In beeldverwerking wordt dit al lang gebruikt om bijvoorbeeld een blur-effect te introduceren, ruis te verminderen of randen scherper te maken. \n",
    "\n",
    "In neurale netwerken worden Convolutionele lagen gebruikt om randen te detecteren.\n",
    "In de eerste laag zijn dit letterlijk de randen van de figuur maar dieper liggende lagen detecteren hogere orde features zoals gezichten, banden, ogen, ...\n",
    "\n",
    "Deze convolutie/feature extraction wordt uitgevoerd door een kernel. Dit is een kleine matrix die een aantal pixelwaarden samenvoegd met bepaalde gewichten. Deze gewichten worden getrained.\n",
    "Let wel op dezelfde kernel gebruikt wordt voor een hele feature-map. Hierdoor wordt het aantal gewichten beperkt.\n",
    "\n",
    "Bij het opstellen van een convolutionele laag moet je een aantal zaken kiezen. Deze keuzes bepalen de dimensies van de outputlaag en de structuur van de onderliggende lagen dus je bestudeerd best de dimensies van de in- en output van deze lagen om vlot te kunnen werken.\n",
    "\n",
    "De hyperparameters van een convolutionele laag zijn:\n",
    "* Dimensies van de input\n",
    "    * 1D -> convolutie in de tijd\n",
    "    * 2D -> convolutie over beelden\n",
    "    * 3D -> convolutie over volumes, bvb video (images in de tijd) of 3d-modellen bij medische beeldvorming\n",
    "* De kernel-dimensie: hoe groot is het venster waarin pixels samengevoegd worden\n",
    "    * Typisch 3x3 of 5x5 (deze getallen zijn oneven zodat er een centrum pixel is, normaal ook gelijk in beide dimensies maar dat is niet verplicht)\n",
    "    * Hoe kleiner de figuur hoe kleiner je je kernel wilt. Het is belangrijk om lokale data te gebruiken\n",
    "* De stride: Hoeveel waarden/pixels schuift de kernel op elke stappen\n",
    "    * Vaak 1 maar kan ook 2 of 3 zijn\n",
    "* Padding: Hoe vang je de gevallen op dat de kernel buiten de figuur zou komen\n",
    "    * No-padding: Kernel kan niet buiten de randen van de figuur gaan (valid padding in tensorflow). Hierdoor kan de dimensie van de output verkleind worden\n",
    "    * Zero-Padding: Nullen worden toegevoegd indien de kernel buiten de randen van de figuur zou gaan (same padding in tensorflow)\n",
    "* Aantal kernels: Hoeveel keer dat we deze convolutie willen uitvoeren = aantal \"feature maps\" die uit de laag komen\n",
    "* Activation function\n",
    "* Regularizers\n",
    "\n",
    "Omdat een aantal van deze operaties de grootte van de figuren beinvloed gaan we dit eerst inoefenen aan de hand van een aantal voorbeelden.\n",
    "Hierbij gaan we uit van de figuren die we hierboven berekend hebben die RGB beelden zijn (drie kanalen) van 32x32 pixels.\n",
    "\n",
    "Wat is de output van een convolutionele laag met de hyperparameters:\n",
    "* 1 kernel, Kernel=3x3, stride=1, padding = zero/same padding"
   ]
  },
  {
   "cell_type": "code",
   "execution_count": 34,
   "id": "6c8bc2c1",
   "metadata": {},
   "outputs": [
    {
     "data": {
      "text/plain": [
       "TensorShape([1, 32, 32, 1])"
      ]
     },
     "execution_count": 34,
     "metadata": {},
     "output_type": "execute_result"
    }
   ],
   "source": [
    "from tensorflow.keras.layers import Conv2D\n",
    "image = tf.cast(tf.expand_dims(batch_x[5], 0), tf.float32)\n",
    "\n",
    "convolutie = Conv2D(1, 3, 1, \"same\")\n",
    "convolutie(image).shape"
   ]
  },
  {
   "cell_type": "markdown",
   "id": "a9bb7d5a",
   "metadata": {},
   "source": [
    "* 5 kernel, Kernel=3x3, stride=1, padding = no/valid padding"
   ]
  },
  {
   "cell_type": "code",
   "execution_count": 35,
   "id": "be17b8b5",
   "metadata": {},
   "outputs": [
    {
     "data": {
      "text/plain": [
       "TensorShape([1, 30, 30, 5])"
      ]
     },
     "execution_count": 35,
     "metadata": {},
     "output_type": "execute_result"
    }
   ],
   "source": [
    "convolutie = Conv2D(5, 3, 1, \"valid\")\n",
    "convolutie(image).shape"
   ]
  },
  {
   "cell_type": "markdown",
   "id": "e6fe9f48",
   "metadata": {},
   "source": [
    "* 5 kernel, Kernel=5x5, stride=2, padding = zero/same padding"
   ]
  },
  {
   "cell_type": "code",
   "execution_count": 36,
   "id": "ba263575",
   "metadata": {},
   "outputs": [
    {
     "data": {
      "text/plain": [
       "TensorShape([1, 16, 16, 5])"
      ]
     },
     "execution_count": 36,
     "metadata": {},
     "output_type": "execute_result"
    }
   ],
   "source": [
    "convolutie = Conv2D(5, 5, 2, \"same\")\n",
    "convolutie(image).shape"
   ]
  },
  {
   "cell_type": "markdown",
   "id": "6b76726f",
   "metadata": {},
   "source": [
    "* 5 kernel, Kernel=5x5, stride=2, padding = no/valid padding"
   ]
  },
  {
   "cell_type": "code",
   "execution_count": 37,
   "id": "9f8255ea",
   "metadata": {},
   "outputs": [
    {
     "data": {
      "text/plain": [
       "TensorShape([1, 14, 14, 5])"
      ]
     },
     "execution_count": 37,
     "metadata": {},
     "output_type": "execute_result"
    }
   ],
   "source": [
    "convolutie = Conv2D(5, 5, 2, \"valid\")\n",
    "convolutie(image).shape"
   ]
  },
  {
   "cell_type": "markdown",
   "id": "0496a0ac",
   "metadata": {},
   "source": [
    "### Pooling lagen\n",
    "\n",
    "Een probleem/beperking met het concept van convolutionele lagen is dat kleine beweging van de feature resulteren in een andere feature map/andere output. \n",
    "Dit komt omdat de convolutie de exacte positie van de feature bijhoudt.\n",
    "\n",
    "De impact van deze kleine veranderingen (die bijvoorbeeld de impact zijn van onze augmentaties) wordt typisch vermeden door down-sampling uit te voeren. \n",
    "Hierdoor bekomen we een lagere resolutie waar echter nog steeds de belangrijkste en grootste features in gecapteerd zijn. \n",
    "\n",
    "In neurale netwerken kan deze downsampling uitgevoerd worden door de stride van de convolutie doorheen het beeld te vergroten.\n",
    "Dit is echter een niet zo robuste aanpak en typisch wordt er gekozen om gebruik te maken van een pooling laag.\n",
    "\n",
    "Dit is een laag die toegevoegd wordt na de activatiefunctie van de convolutionele laag.\n",
    "Deze pooling laag voert dan deze downsampling uit door een bepaalde operatie uit te voeren.\n",
    "Veruit de meest gebruikte operaties hiervoor zijn:\n",
    "* Average pooling: Gemiddelde feature aanwezig in de buurt\n",
    "* Maximum pooling: Sterkste, meest prominente, meest duidelijke feature\n",
    "\n",
    "Deze operatie op zich voert nog geen downsampling uit.\n",
    "Het downsamplen komt voort uit het feit dat deze laag een kleine groep pixels bekijkt (kernel/filter) en dit kijkvenster met een bepaalde stap verschuift (stride).\n",
    "**In bijna alle gevallen wordt gebruik gemaakt van een 2x2 venster dat verschuift met een stap van 2.**\n",
    "Dit houdt in dat de dimensie van de input gehalveerd wordt door het toepassen van een pooling laag\n"
   ]
  },
  {
   "cell_type": "code",
   "execution_count": 39,
   "id": "f5b4b01b",
   "metadata": {},
   "outputs": [],
   "source": [
    "from tensorflow.keras.layers import MaxPooling2D"
   ]
  },
  {
   "cell_type": "markdown",
   "id": "94edf069",
   "metadata": {},
   "source": [
    "Indien we een standaard MaxPooling laag (filter of 2x2 en stride of 2) uitvoeren op de originele figuur (32x32x3), welke dimensie heeft de output dan?"
   ]
  },
  {
   "cell_type": "code",
   "execution_count": 40,
   "id": "6085ce69",
   "metadata": {},
   "outputs": [
    {
     "data": {
      "text/plain": [
       "TensorShape([1, 16, 16, 3])"
      ]
     },
     "execution_count": 40,
     "metadata": {},
     "output_type": "execute_result"
    }
   ],
   "source": [
    "pooling = MaxPooling2D()\n",
    "pooling(image).shape"
   ]
  },
  {
   "cell_type": "markdown",
   "id": "976aad24",
   "metadata": {},
   "source": [
    "### Full example\n",
    "\n",
    "Een Convolutioneel Neuraal Netwerken bestaat uit dus eerst 1 of meerdere Convolutionele lagen gevolgd door een Pooling laag. \n",
    "Deze twee lagen worden afgewisseld tot je denkt voldoende diepte te hebben. Dit hangt af van de input van je netwerk en wat je probeert te bereiken. \n",
    "Wanneer er gestopt wordt met de convolutionele en pooling lagen is er een Flatten layer.\n",
    "Deze laag doet niet zo veel behalve de dimensie van de tensor aanpassen zodat het een 1-dimensionele rij wordt.\n",
    "Dit kan dan als input dienen voor een fully-connected neuraal netwerk bestaande uit 1 of meerdere Dense lagen.\n",
    "\n",
    "Een voorbeeld waar een volledig CNN uitgelegd worden kan je [hier](https://towardsdatascience.com/the-most-intuitive-and-easiest-guide-for-convolutional-neural-network-3607be47480) bestuderen.\n",
    "Hieronder gaan we het voorbeeld waarmee we hierboven begonnen waren verder afwerken.\n"
   ]
  },
  {
   "cell_type": "code",
   "execution_count": 41,
   "id": "64afd6d4",
   "metadata": {},
   "outputs": [
    {
     "name": "stdout",
     "output_type": "stream",
     "text": [
      "WARNING:tensorflow:Using a while_loop for converting RngReadAndSkip\n",
      "WARNING:tensorflow:Using a while_loop for converting Bitcast\n",
      "WARNING:tensorflow:Using a while_loop for converting Bitcast\n",
      "WARNING:tensorflow:Using a while_loop for converting StatelessRandomUniformV2\n",
      "WARNING:tensorflow:Using a while_loop for converting RngReadAndSkip\n",
      "WARNING:tensorflow:Using a while_loop for converting Bitcast\n",
      "WARNING:tensorflow:Using a while_loop for converting Bitcast\n",
      "WARNING:tensorflow:Using a while_loop for converting StatelessRandomUniformV2\n"
     ]
    },
    {
     "data": {
      "text/plain": [
       "<tf.Tensor: shape=(1, 16, 16, 5), dtype=float32, numpy=\n",
       "array([[[[ 0.1280379 , -0.05710467, -0.07674482,  0.17105009,\n",
       "           0.10257881],\n",
       "         [ 0.0965445 ,  0.02386383, -0.10905522,  0.04905855,\n",
       "           0.10421901],\n",
       "         [ 0.02948923,  0.03200268, -0.02947416, -0.01883185,\n",
       "           0.06888105],\n",
       "         ...,\n",
       "         [ 0.08669673, -0.02165976, -0.04724876, -0.1068137 ,\n",
       "           0.05025973],\n",
       "         [ 0.0579398 , -0.01355752, -0.02627344, -0.05635013,\n",
       "           0.05299176],\n",
       "         [ 0.05601827, -0.03235475, -0.03845108,  0.01157841,\n",
       "           0.0697997 ]],\n",
       "\n",
       "        [[ 0.13360636, -0.05145695, -0.05221586,  0.16740568,\n",
       "           0.10082085],\n",
       "         [ 0.13257924, -0.0882095 , -0.09023482,  0.08662311,\n",
       "           0.15191577],\n",
       "         [ 0.10305645, -0.07219458, -0.08745809,  0.06118656,\n",
       "           0.1428468 ],\n",
       "         ...,\n",
       "         [ 0.09413126, -0.14241713, -0.14994273,  0.00304579,\n",
       "           0.07190771],\n",
       "         [ 0.08971699, -0.03241025, -0.06352192, -0.04502665,\n",
       "           0.05577538],\n",
       "         [ 0.08810382, -0.02646608, -0.10211979,  0.00532717,\n",
       "           0.06084751]],\n",
       "\n",
       "        [[ 0.13104494, -0.04616146, -0.0658162 ,  0.14430782,\n",
       "           0.12221154],\n",
       "         [ 0.11050202, -0.08495452, -0.04276094,  0.08039659,\n",
       "           0.15208064],\n",
       "         [ 0.0901312 , -0.05207042, -0.01974983,  0.03500291,\n",
       "           0.13030505],\n",
       "         ...,\n",
       "         [ 0.06439419, -0.03822669, -0.0684038 ,  0.06727297,\n",
       "           0.06606431],\n",
       "         [ 0.0922121 , -0.04858806, -0.11262961,  0.03503829,\n",
       "           0.07811356],\n",
       "         [ 0.1246026 , -0.07402494, -0.1552602 ,  0.0462966 ,\n",
       "           0.08711379]],\n",
       "\n",
       "        ...,\n",
       "\n",
       "        [[ 0.09581074, -0.02251541,  0.01154064,  0.11720925,\n",
       "           0.1392323 ],\n",
       "         [ 0.05230772, -0.03880005, -0.0625978 ,  0.11521524,\n",
       "           0.14631099],\n",
       "         [ 0.0550251 , -0.04186111, -0.06778133,  0.05291789,\n",
       "           0.13651633],\n",
       "         ...,\n",
       "         [ 0.11031103, -0.06203038, -0.06396518,  0.08844387,\n",
       "           0.14266835],\n",
       "         [ 0.12241542, -0.07585267, -0.06404604,  0.1034004 ,\n",
       "           0.15014645],\n",
       "         [ 0.1178003 , -0.07535252, -0.06935356,  0.08679013,\n",
       "           0.14673024]],\n",
       "\n",
       "        [[ 0.03886782, -0.02480114, -0.03838655,  0.06298805,\n",
       "           0.12792298],\n",
       "         [ 0.04309566, -0.0250275 , -0.06508939,  0.05230737,\n",
       "           0.11720192],\n",
       "         [ 0.05794286, -0.03412626, -0.05724327,  0.07243679,\n",
       "           0.11929048],\n",
       "         ...,\n",
       "         [ 0.10309859, -0.07036857, -0.04702701,  0.08573816,\n",
       "           0.13473523],\n",
       "         [ 0.09512923, -0.06753784, -0.06241865,  0.07743687,\n",
       "           0.13672744],\n",
       "         [ 0.10630818, -0.056254  , -0.0591051 ,  0.07857157,\n",
       "           0.14344886]],\n",
       "\n",
       "        [[ 0.05813018, -0.07407554, -0.01623494,  0.10151249,\n",
       "           0.10955051],\n",
       "         [ 0.07335689, -0.04023034,  0.01061106,  0.05381049,\n",
       "           0.11371182],\n",
       "         [ 0.06789511, -0.04457445,  0.00212656,  0.06459033,\n",
       "           0.11307192],\n",
       "         ...,\n",
       "         [ 0.09713786, -0.04773561,  0.02520658,  0.08918922,\n",
       "           0.11007701],\n",
       "         [ 0.101395  , -0.06175529,  0.01482653,  0.08641494,\n",
       "           0.12269101],\n",
       "         [ 0.10055521, -0.05566974,  0.01313274,  0.07779178,\n",
       "           0.13064604]]]], dtype=float32)>"
      ]
     },
     "execution_count": 41,
     "metadata": {},
     "output_type": "execute_result"
    }
   ],
   "source": [
    "model = Sequential([\n",
    "    Rescaling(1./255),\n",
    "    RandomRotation(0.2),\n",
    "    RandomZoom(0.1),\n",
    "    RandomBrightness(0.001),\n",
    "    Conv2D(5, 3, 1, \"same\"),   # 5 kernels ,3 x3 met een stride van 1\n",
    "    MaxPooling2D()\n",
    "])\n",
    "\n",
    "model(image)"
   ]
  },
  {
   "cell_type": "code",
   "execution_count": 44,
   "id": "14c7b6b6",
   "metadata": {},
   "outputs": [
    {
     "name": "stdout",
     "output_type": "stream",
     "text": [
      "WARNING:tensorflow:Using a while_loop for converting RngReadAndSkip\n",
      "WARNING:tensorflow:Using a while_loop for converting Bitcast\n",
      "WARNING:tensorflow:Using a while_loop for converting Bitcast\n",
      "WARNING:tensorflow:Using a while_loop for converting StatelessRandomUniformV2\n",
      "WARNING:tensorflow:Using a while_loop for converting RngReadAndSkip\n",
      "WARNING:tensorflow:Using a while_loop for converting Bitcast\n",
      "WARNING:tensorflow:Using a while_loop for converting Bitcast\n",
      "WARNING:tensorflow:Using a while_loop for converting StatelessRandomUniformV2\n"
     ]
    },
    {
     "data": {
      "image/png": "[encoded data removed]",
      "text/plain": [
       "<IPython.core.display.Image object>"
      ]
     },
     "execution_count": 44,
     "metadata": {},
     "output_type": "execute_result"
    }
   ],
   "source": [
    "from tensorflow.keras.layers import Flatten\n",
    "\n",
    "model = Sequential([\n",
    "    Rescaling(1./255),\n",
    "    RandomRotation(0.2),\n",
    "    RandomZoom(0.1),\n",
    "    RandomBrightness(0.001),\n",
    "    Conv2D(5, 3, 1, \"same\"),\n",
    "    MaxPooling2D(),\n",
    "    Conv2D(15, 3, 1, \"same\"),\n",
    "    MaxPooling2D(),\n",
    "    Conv2D(30, 3, 1, \"same\"),\n",
    "    MaxPooling2D(),\n",
    "    Flatten()\n",
    "])\n",
    "\n",
    "model(image)\n",
    "\n",
    "# we beginnen met 32 x 32\n",
    "# we doen 3 max pooling die het gaat halveren\n",
    "# dus eigenlijk delen door 2^3 = 8\n",
    "# op het einde na de maxpooling heb je 30 kernels van 4x4 -> 480 waarden per beeld\n",
    "\n",
    "tf.keras.utils.plot_model(model, show_shapes=True)"
   ]
  },
  {
   "cell_type": "code",
   "execution_count": 45,
   "id": "62e58cec",
   "metadata": {},
   "outputs": [
    {
     "name": "stdout",
     "output_type": "stream",
     "text": [
      "Model: \"sequential_11\"\n",
      "_________________________________________________________________\n",
      " Layer (type)                Output Shape              Param #   \n",
      "=================================================================\n",
      " rescaling_10 (Rescaling)    (1, 32, 32, 3)            0         \n",
      "                                                                 \n",
      " random_rotation_6 (RandomRo  (1, 32, 32, 3)           0         \n",
      " tation)                                                         \n",
      "                                                                 \n",
      " random_zoom_5 (RandomZoom)  (1, 32, 32, 3)            0         \n",
      "                                                                 \n",
      " random_brightness_8 (Random  (None, 32, 32, 3)        0         \n",
      " Brightness)                                                     \n",
      "                                                                 \n",
      " conv2d_11 (Conv2D)          (None, 32, 32, 5)         140       \n",
      "                                                                 \n",
      " max_pooling2d_8 (MaxPooling  (None, 16, 16, 5)        0         \n",
      " 2D)                                                             \n",
      "                                                                 \n",
      " conv2d_12 (Conv2D)          (None, 16, 16, 15)        690       \n",
      "                                                                 \n",
      " max_pooling2d_9 (MaxPooling  (None, 8, 8, 15)         0         \n",
      " 2D)                                                             \n",
      "                                                                 \n",
      " conv2d_13 (Conv2D)          (None, 8, 8, 30)          4080      \n",
      "                                                                 \n",
      " max_pooling2d_10 (MaxPoolin  (None, 4, 4, 30)         0         \n",
      " g2D)                                                            \n",
      "                                                                 \n",
      " flatten_10 (Flatten)        (None, 480)               0         \n",
      "                                                                 \n",
      "=================================================================\n",
      "Total params: 4,910\n",
      "Trainable params: 4,910\n",
      "Non-trainable params: 0\n",
      "_________________________________________________________________\n"
     ]
    }
   ],
   "source": [
    "model.summary()"
   ]
  },
  {
   "cell_type": "code",
   "execution_count": 47,
   "id": "5a2eb811",
   "metadata": {},
   "outputs": [
    {
     "name": "stdout",
     "output_type": "stream",
     "text": [
      "WARNING:tensorflow:Using a while_loop for converting RngReadAndSkip\n",
      "WARNING:tensorflow:Using a while_loop for converting Bitcast\n",
      "WARNING:tensorflow:Using a while_loop for converting Bitcast\n",
      "WARNING:tensorflow:Using a while_loop for converting StatelessRandomUniformV2\n",
      "WARNING:tensorflow:Using a while_loop for converting RngReadAndSkip\n",
      "WARNING:tensorflow:Using a while_loop for converting Bitcast\n",
      "WARNING:tensorflow:Using a while_loop for converting Bitcast\n",
      "WARNING:tensorflow:Using a while_loop for converting StatelessRandomUniformV2\n"
     ]
    }
   ],
   "source": [
    "from tensorflow.keras.layers import Flatten, Dense\n",
    "from tensorflow.keras.losses import SparseCategoricalCrossentropy\n",
    "import time\n",
    "\n",
    "model = Sequential([\n",
    "    Rescaling(1./255),\n",
    "    RandomRotation(0.2),\n",
    "    RandomZoom(0.1),\n",
    "    RandomBrightness(0.001),\n",
    "    Conv2D(5, 3, 1, \"same\"),\n",
    "    MaxPooling2D(),\n",
    "    Conv2D(15, 3, 1, \"same\"),\n",
    "    MaxPooling2D(),\n",
    "    Conv2D(30, 3, 1, \"same\"),\n",
    "    MaxPooling2D(),\n",
    "    Flatten(),\n",
    "    Dense(1000, activation=\"relu\"),\n",
    "    Dense(10, activation=\"sigmoid\") # number of classes\n",
    "])\n",
    "\n",
    "# output test of the model \n",
    "model(image)\n",
    "\n",
    "# train\n",
    "model.compile(optimizer=\"adam\", loss=SparseCategoricalCrossentropy(from_logits=True), metrics=[\"accuracy\"])\n",
    "\n",
    "logdir=\"logs\\\\fit\\\\\" + str(int(time.time()))\n",
    "tensorboard_callback = tf.keras.callbacks.TensorBoard(log_dir=logdir, histogram_freq=1, update_freq=10, profile_batch=0)\n"
   ]
  },
  {
   "cell_type": "code",
   "execution_count": null,
   "id": "a397b937",
   "metadata": {},
   "outputs": [],
   "source": [
    "# Launch TensorBoard with objects in the log directory\n",
    "# This should launch tensorboard in your browser, but you may not see your metadata.\n",
    "# do this in commandline\n",
    "# tensorboard --logdir=\"C:\\Users\\jens.baetens3\\OneDrive - ODISEE\\MACHINE_LEARNING\\Leerstof\\Lessen\\Week 3\\logs\\fit\"\n",
    "\n",
    "# met tandwieltje kan je auto updates aanzetten waarmee je een lopende run kan monitorren\n"
   ]
  },
  {
   "cell_type": "code",
   "execution_count": 48,
   "id": "cb509e28",
   "metadata": {},
   "outputs": [
    {
     "name": "stdout",
     "output_type": "stream",
     "text": [
      "Epoch 1/5\n",
      "WARNING:tensorflow:Using a while_loop for converting RngReadAndSkip\n",
      "WARNING:tensorflow:Using a while_loop for converting Bitcast\n",
      "WARNING:tensorflow:Using a while_loop for converting Bitcast\n",
      "WARNING:tensorflow:Using a while_loop for converting StatelessRandomUniformV2\n",
      "WARNING:tensorflow:Using a while_loop for converting RngReadAndSkip\n",
      "WARNING:tensorflow:Using a while_loop for converting Bitcast\n",
      "WARNING:tensorflow:Using a while_loop for converting Bitcast\n",
      "WARNING:tensorflow:Using a while_loop for converting StatelessRandomUniformV2\n"
     ]
    },
    {
     "name": "stderr",
     "output_type": "stream",
     "text": [
      "c:\\Users\\jens.baetens3\\AppData\\Local\\Programs\\Python\\Python310\\lib\\site-packages\\tensorflow\\python\\util\\dispatch.py:1082: UserWarning: \"`sparse_categorical_crossentropy` received `from_logits=True`, but the `output` argument was produced by a sigmoid or softmax activation and thus does not represent logits. Was this intended?\"\n",
      "  return dispatch_target(*args, **kwargs)\n"
     ]
    },
    {
     "name": "stdout",
     "output_type": "stream",
     "text": [
      "WARNING:tensorflow:Using a while_loop for converting RngReadAndSkip\n",
      "WARNING:tensorflow:Using a while_loop for converting Bitcast\n",
      "WARNING:tensorflow:Using a while_loop for converting Bitcast\n",
      "WARNING:tensorflow:Using a while_loop for converting StatelessRandomUniformV2\n",
      "1407/1407 [==============================] - 140s 96ms/step - loss: 1.6674 - accuracy: 0.4026 - val_loss: 1.4100 - val_accuracy: 0.5026\n",
      "Epoch 2/5\n",
      "1407/1407 [==============================] - 138s 98ms/step - loss: 1.4354 - accuracy: 0.4920 - val_loss: 1.3967 - val_accuracy: 0.5262\n",
      "Epoch 3/5\n",
      "1407/1407 [==============================] - 136s 97ms/step - loss: 1.3359 - accuracy: 0.5289 - val_loss: 1.2371 - val_accuracy: 0.5644\n",
      "Epoch 4/5\n",
      "1407/1407 [==============================] - 136s 97ms/step - loss: 1.2563 - accuracy: 0.5567 - val_loss: 1.3024 - val_accuracy: 0.5556\n",
      "Epoch 5/5\n",
      "1407/1407 [==============================] - 135s 96ms/step - loss: 1.2031 - accuracy: 0.5766 - val_loss: 1.1597 - val_accuracy: 0.5876\n"
     ]
    },
    {
     "data": {
      "text/plain": [
       "[<matplotlib.lines.Line2D at 0x166911e2380>]"
      ]
     },
     "execution_count": 48,
     "metadata": {},
     "output_type": "execute_result"
    },
    {
     "data": {
      "image/png": "[encoded data removed]",
      "text/plain": [
       "<Figure size 432x288 with 1 Axes>"
      ]
     },
     "metadata": {
      "needs_background": "light"
     },
     "output_type": "display_data"
    }
   ],
   "source": [
    "history = model.fit(sequence, batch_size= 32, epochs= 5,\n",
    "          validation_data=sequence_val,\n",
    "          shuffle=True,\n",
    "          callbacks=[tensorboard_callback ])\n",
    "\n",
    "plt.plot(history.history['loss'])\n",
    "plt.plot(history.history['val_loss'])"
   ]
  },
  {
   "cell_type": "code",
   "execution_count": null,
   "id": "0b1242d5",
   "metadata": {},
   "outputs": [],
   "source": []
  }
 ],
 "metadata": {
  "kernelspec": {
   "display_name": "Python 3.10.5 64-bit",
   "language": "python",
   "name": "python3"
  },
  "language_info": {
   "codemirror_mode": {
    "name": "ipython",
    "version": 3
   },
   "file_extension": ".py",
   "mimetype": "text/x-python",
   "name": "python",
   "nbconvert_exporter": "python",
   "pygments_lexer": "ipython3",
   "version": "3.10.5"
  },
  "vscode": {
   "interpreter": {
    "hash": "d5e8e3a19af5ceb2434683dff87da6345c3b29f7eb0a8a138558c07d014a01cc"
   }
  }
 },
 "nbformat": 4,
 "nbformat_minor": 5
}
