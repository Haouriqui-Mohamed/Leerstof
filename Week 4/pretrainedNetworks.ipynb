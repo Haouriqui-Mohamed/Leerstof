{
 "cells": [
  {
   "cell_type": "markdown",
   "metadata": {},
   "source": [
    "# Pretrained networks\n",
    "\n",
    "In deze notebook ga je oefenen hoe je gebruik kan maken van reeds getrainde machine learning modellen om het trainen van modellen te versnellen en eenvoudiger goede resultaten te bekomen.\n",
    "\n",
    "Reeds getrainde modellen of pretraind modellen kunnen gebruikt worden op de volgende manieren:\n",
    "* Volledig / zonder wijziging\n",
    "* Met transfer learning\n",
    "* Fine-tuning\n",
    "\n",
    "Er zijn verschillende bronnen van online modellen. Sommige zijn open source en kan je eenvoudig zelf inlezen en manipuleren.\n",
    "Een goede bron van dit type modellen kan je vinden op [tensorflow hub](https://www.tensorflow.org/hub).\n",
    "Daarnaast zijn er ook verscheidene bedrijven die api's aanbieden waarmee je hun modellen kan gebruiken (al dan niet tegen betaling).\n",
    "Deze zijn echter moeilijk om aan te passen waardoor we vooral gaan werken met de modellen uit tensorflow hub.\n",
    "\n",
    "## Zelf geschreven convolutioneel neuraal netwerk\n",
    "\n",
    "Download eerst de dataset [Dogs vs cats](https://www.kaggle.com/c/dogs-vs-cats) van Kaggle en unzip de test1.zip en train.zip files. Let op dat je eerst naar de link moet gaan en de regels van de competitie aanvaarden voor het automatisch downloaden werkt.\n",
    "\n",
    "Schrijf daarna de nodige code voor een convolutioneel neuraal netwerk op te bouwen en te trainen. Welke accuraatheid behaal je voor dit classificatieprobleem?"
   ]
  },
  {
   "cell_type": "code",
   "execution_count": null,
   "metadata": {},
   "outputs": [],
   "source": []
  },
  {
   "cell_type": "code",
   "execution_count": null,
   "metadata": {},
   "outputs": [],
   "source": []
  },
  {
   "cell_type": "code",
   "execution_count": null,
   "metadata": {},
   "outputs": [],
   "source": []
  },
  {
   "cell_type": "code",
   "execution_count": null,
   "metadata": {},
   "outputs": [],
   "source": []
  },
  {
   "cell_type": "markdown",
   "metadata": {},
   "source": [
    "\n",
    "## Gebruiken van pretraind model zonder wijziging\n",
    "\n",
    "In sommige gevallen kan je een online een reeds bestaand model vinden dat rechtstreeks kan toegepast worden op je probleem. \n",
    "Dit is bijvoorbeeld gedaan bij de demo uit de eerste les voor object detection.\n",
    "\n",
    "Hier geef ik een ander voorbeeld, namelijk ga ik een model opzetten om de 5 meest waarschijnlijke klasses van een figuur te herkennen.\n",
    "Hiervoor maak ik gebruik van [het inception v3 model](https://tfhub.dev/google/imagenet/inception_v3/classification/5).\n",
    "Dit is 1 van de vele modellen die je kan gebruiken met dezelfde code.\n",
    "Dit kan je vinden door middel van de notebook die je op de link van het model kan vinden."
   ]
  },
  {
   "cell_type": "code",
   "execution_count": null,
   "metadata": {},
   "outputs": [],
   "source": []
  },
  {
   "cell_type": "code",
   "execution_count": null,
   "metadata": {},
   "outputs": [],
   "source": []
  },
  {
   "cell_type": "markdown",
   "metadata": {},
   "source": [
    "## Transfer learning\n",
    "\n",
    "Hoewel het gebruiken van pretrained netwerken heel handig is, is het maar zelden dat een bestaand netwerk exact kan gebruikt worden voor jouw probleem.\n",
    "Gelukkig zijn er wel mogelijkheden om nog de geleerde features van een getrained model te behouden terwijl je het dan specialiseert voor jouw toepassing.\n",
    "Dit reduceert de hoeveelheid data die je nog nodig hebt om jouw probleem goed op te lossen. \n",
    "\n",
    "Hieronder zie je een voorbeeld van transfer learning met behulp van bovenstaand model om de classificatie goed uit te voeren.\n",
    "De bron van de code die in dit stuk gebruikt wordt kan je [hier](https://medium.com/analytics-vidhya/transfer-learning-using-inception-v3-for-image-classification-86700411251b) vinden.\n",
    "\n",
    "Download eerst de dataset [Dogs vs cats](https://www.kaggle.com/c/dogs-vs-cats) van Kaggle en unzip de test1.zip en train.zip files. Let op dat je eerst naar de link moet gaan en de regels van de competitie aanvaarden voor het automatisch downloaden werkt."
   ]
  },
  {
   "cell_type": "code",
   "execution_count": null,
   "metadata": {},
   "outputs": [],
   "source": []
  },
  {
   "cell_type": "code",
   "execution_count": 46,
   "metadata": {},
   "outputs": [],
   "source": []
  },
  {
   "cell_type": "markdown",
   "metadata": {},
   "source": [
    "Bij transfer learning wordt er begonnen van een pre-trained model. In deze voorbeeldcode wordt er gebruik gemaakt van het inception-v3 model. Het gebruiken van andere netwerken verloopt analoog.\n",
    "\n",
    "In de code cell hieronder wordt dit netwerk aangemaakt en bekeken."
   ]
  },
  {
   "cell_type": "code",
   "execution_count": null,
   "metadata": {},
   "outputs": [],
   "source": []
  },
  {
   "cell_type": "markdown",
   "metadata": {},
   "source": [
    "Echter is de output van dit netwerk veel te specifiek voor onze toepassingen.\n",
    "We zouden alle klassen die overeenkomen met honden- en kattenrassen moeten opzoeken om dan kijken welke het hoogst is.\n",
    "Een bijkomend probleem is dat je niet kan garanderen dat er een hond- of kattenras voorspeld wordt.\n",
    "\n",
    "Bij transfer learning houden we typisch het convolutionele gedeelte van het CNN constant en passen we het fully-connected gedeelte aan.\n",
    "Bij het inception-V3 model bestaat dit deel uit 1 laag met 1000 neuronen om de berekende features om te zetten naar de juiste klassen. \n",
    "\n",
    "Het vervangen van de laatste laag kan je doen als volgt:"
   ]
  },
  {
   "cell_type": "code",
   "execution_count": null,
   "metadata": {},
   "outputs": [],
   "source": []
  },
  {
   "cell_type": "markdown",
   "metadata": {},
   "source": [
    "Nu moeten we nog de beelden uitlezen uit de train directory en deze doorheen het model sturen om de gewichten van de nieuwe lagen te trainen.\n",
    "Dit kan als volgt gebeuren:"
   ]
  },
  {
   "cell_type": "code",
   "execution_count": null,
   "metadata": {},
   "outputs": [],
   "source": []
  },
  {
   "cell_type": "code",
   "execution_count": null,
   "metadata": {},
   "outputs": [],
   "source": []
  },
  {
   "cell_type": "markdown",
   "metadata": {},
   "source": [
    "### Callbacks\n",
    "\n",
    "Door gebruik te maken van transfer learning heb je reeds heel wat training achter de rug.\n",
    "Hierdoor kan het zijn dat je je trainingsruns vroegtijdig wil afbreken indien je een bepaalde accuraatheid behaald hebt. \n",
    "Hiervoor kan je gebruik maken van een callback. Dit is een functie die na elke epoch opgeroepen wordt.\n",
    "In deze functie kan je logs bijhouden, backups opslaan, de training onderbreken, ...\n",
    "\n",
    "In de code hieronder bekijken we enkel het resultaat na de volledige training van een epoch.\n",
    "Er zijn echter heel wat callbacks waarop je kan reageren om bijvoorbeeld data te fetchen, logs weg te schrijven, de vooruitgang te bestuderen.\n",
    "Een overaicht van deze callbacks kan je [hier](https://www.tensorflow.org/api_docs/python/tf/keras/callbacks/Callback) vinden."
   ]
  },
  {
   "cell_type": "code",
   "execution_count": null,
   "metadata": {},
   "outputs": [],
   "source": []
  },
  {
   "cell_type": "code",
   "execution_count": null,
   "metadata": {},
   "outputs": [],
   "source": []
  },
  {
   "cell_type": "markdown",
   "metadata": {},
   "source": [
    "## Fine tuning\n",
    "\n",
    "Bij transfer learning wordt een deel van de gewichten niet meer aangepast, namelijk deze van het convolutionele gedeelte van het CNN.\n",
    "In sommige gevallen wil je echter niet alleen het laatste gedeelte aanpassen maar het hele neuraal netwerk fine-tunen met nieuwe data.\n",
    "Dit kan bijvoorbeeld zijn als je continue nieuwe data binnenkrijgt die kan gebruikt worden om het CNN verder te trainen om de prestaties te verbeteren.\n",
    "\n",
    "Let op dat een CNN bestaat uit een groot aantal convolutionele lagen.\n",
    "De eerste van deze lagen extraheren heel eenvoudige en generieke features en dieper liggende lagen zoeken naar features die meer specifiek zijn aan de dataset waarop het model getrained wordt.\n",
    "Het kan nodig zijn om deze dieper liggen lagen ook mee te trainen om het model beter te laten werken voor jouw probleem. \n",
    "\n",
    "Aangezien hier lagen niet vervangen worden maar verder getrained spreken we niet van transfer learning maar fine tuning. Meer informatie hierover en de bron van de voorbeeldcode hieronder kan je [hier](https://www.tensorflow.org/tutorials/images/transfer_learning#fine_tuning) vinden.\n",
    "\n",
    "**Opmerking:** Indien je het volledig netwerk fine-tuned komt dit overeen met hoe je recovered van failures. Stel dat er een crash is na epoch x. Dan kan je terug beginnen vanaf epoch x-1 (of de meest recente backup) en verder trainen van het netwerk."
   ]
  },
  {
   "cell_type": "code",
   "execution_count": null,
   "metadata": {},
   "outputs": [],
   "source": []
  },
  {
   "cell_type": "code",
   "execution_count": null,
   "metadata": {},
   "outputs": [],
   "source": []
  },
  {
   "cell_type": "code",
   "execution_count": null,
   "metadata": {},
   "outputs": [],
   "source": []
  },
  {
   "cell_type": "code",
   "execution_count": null,
   "metadata": {},
   "outputs": [],
   "source": []
  }
 ],
 "metadata": {
  "kernelspec": {
   "display_name": "Python 3.10.5 64-bit",
   "language": "python",
   "name": "python3"
  },
  "language_info": {
   "codemirror_mode": {
    "name": "ipython",
    "version": 3
   },
   "file_extension": ".py",
   "mimetype": "text/x-python",
   "name": "python",
   "nbconvert_exporter": "python",
   "pygments_lexer": "ipython3",
   "version": "3.10.5"
  },
  "orig_nbformat": 4,
  "vscode": {
   "interpreter": {
    "hash": "d5e8e3a19af5ceb2434683dff87da6345c3b29f7eb0a8a138558c07d014a01cc"
   }
  }
 },
 "nbformat": 4,
 "nbformat_minor": 2
}
